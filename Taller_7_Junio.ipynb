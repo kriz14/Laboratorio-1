{
  "nbformat": 4,
  "nbformat_minor": 0,
  "metadata": {
    "colab": {
      "name": "Taller_7_Junio",
      "provenance": [],
      "collapsed_sections": [],
      "include_colab_link": true
    },
    "kernelspec": {
      "name": "python3",
      "display_name": "Python 3"
    },
    "language_info": {
      "name": "python"
    }
  },
  "cells": [
    {
      "cell_type": "markdown",
      "metadata": {
        "id": "view-in-github",
        "colab_type": "text"
      },
      "source": [
        "<a href=\"https://colab.research.google.com/github/kriz14/Repo-Programacion_2022_1/blob/main/Taller_7_Junio.ipynb\" target=\"_parent\"><img src=\"https://colab.research.google.com/assets/colab-badge.svg\" alt=\"Open In Colab\"/></a>"
      ]
    },
    {
      "cell_type": "markdown",
      "source": [
        "**PUNTO 1**"
      ],
      "metadata": {
        "id": "LKoEN1dqEHyX"
      }
    },
    {
      "cell_type": "code",
      "source": [
        "nom=(input('Escriba su nombre: ')) #El programa le pide al usuario su nombre.\n",
        "ed=input('Ingrese su edad: ') #El programa le pide al usuario su edad\n",
        "direc=input('Ingrese su dirección: ') #El programa le pide al usuario su dirección\n",
        "tel=input('Por último ingrese su teléfono: ') #El programa le pide al usuario su teléfono \n",
        "dicc_gene={'nombre':nom,'edad':ed,'dirección':direc,'telefono':tel} #Se crea un diccionario para guardar la información suministrada como valores de distintas claves \n",
        "info=list(dicc_gene.values()) #Crea una lista de todos lo valores del diccionario.\n",
        "print(f\"{info[0]} tiene {info[1]} años, vive en {info[2]} y su número de teléfono es {info[3]}\") #se imprime lo solicitado por el ejercicio, teniendo en cuenta la posición de cada valor dentro de la lista."
      ],
      "metadata": {
        "id": "TcCJv1t4ELom",
        "colab": {
          "base_uri": "https://localhost:8080/"
        },
        "outputId": "7e5c5df8-261d-4442-93dd-cd447677e111"
      },
      "execution_count": null,
      "outputs": [
        {
          "output_type": "stream",
          "name": "stdout",
          "text": [
            "Escriba su nombre: Cristian\n",
            "Ingrese su edad: 21\n",
            "Ingrese su dirección: TV 3D ESTE # 44 32 SUR\n",
            "Por último ingrese su teléfono: 3006654572\n",
            "Cristian tiene 21 años, vive en TV 3D ESTE # 44 32 SUR y su número de teléfono es 3006654572\n"
          ]
        }
      ]
    },
    {
      "cell_type": "markdown",
      "source": [
        "**PUNTO 2**"
      ],
      "metadata": {
        "id": "XqLrTXJTELQh"
      }
    },
    {
      "cell_type": "code",
      "source": [
        "fechaa=input(\"ingrese la fecha actual en el formato dd/mm/aaaa \")#pedimos la fecha el dia actual\n",
        "fechan=input(\"ingrese su fecha de nacimiento en el formato dd/mm/aaaa \")#pedimos la fecha de nacimiento del usuario\n",
        "fechaa=fechaa.split(\"/\")#fechaa sera una lista con los datos de la fecha actual\n",
        "fechann=fechan.split(\"/\")#fechann sera una copia de la lista con los datos de la fecha de nacimiento\n",
        "fechan=fechan.split(\"/\")#fechan sera una lista con los datos de la fecha de nacimiento\n",
        "cuantosdias=0#variable que nos dira cuantos dias de vida tiene la persona\n",
        "meses={}#creamos un dictado con el numero del mes, el nombre y la cantidad de dias\n",
        "meses[\"01\"]=[\"Enero\",\"31\"]\n",
        "meses[\"02\"]=[\"Febrero\",\"28\"]\n",
        "meses[\"03\"]=[\"Marzo\",\"31\"]\n",
        "meses[\"04\"]=[\"Abril\",\"30\"]\n",
        "meses[\"05\"]=[\"Mayo\",\"31\"]\n",
        "meses[\"06\"]=[\"Junio\",\"30\"]\n",
        "meses[\"07\"]=[\"Julio\",\"31\"]\n",
        "meses[\"08\"]=[\"Agosto\",\"31\"]\n",
        "meses[\"09\"]=[\"Septiembre\",\"30\"]\n",
        "meses[\"10\"]=[\"Octubre\",\"31\"]\n",
        "meses[\"11\"]=[\"Noviembre\",\"30\"]\n",
        "meses[\"12\"]=[\"Diciembre\",\"31\"]\n",
        "while fechan[-1] != fechaa[-1]:#comparamos los años de nacimiento y de la actualidad si es diferente se ejecutara el sigguiente codigo\n",
        "  cuantosdias+=365#sumamos 365 a la cantidad de dias cada vez que se repita el codigo\n",
        "  cambio=int(fechan[-1])#creamos una variable que tomara el año de nacimiento\n",
        "  cambio+=1#le sumamos 1 a la anterior variable para que \" aumente un año\"\n",
        "  fechan[-1]=str(cambio)#cambiamos el valor del año de nacimiento por el nuevo\n",
        "if int(fechan[-2])< int(fechaa[-2]):#si el numero del mes es menor al del actual:\n",
        "  while fechan[-2] != fechaa[-2]:#realizamos el mismo proceso con los meses de nacimiento\n",
        "    cuantosdias+=int(meses[fechan[-2]][-1])#le sumamos a la variable la cantidad de dias del mes especificado\n",
        "    cambio2=int(fechan[-2])+1#modificamos el valor del mes\n",
        "    if cambio2 <=9:#si el nuevo valor es inferior a 9:\n",
        "      fechan[-2]=\"0\"+str(cambio2)#cambiamos el valor poniendo un 0 antes (ej: 01) \n",
        "    else:\n",
        "      fechan[-2]=str(cambio2)#cambiamos el valor de forma normal(ej: 21)\n",
        "elif int(fechan[-2])> int(fechaa[-2]):#si el mes de nacimiento es mayor al del actual\n",
        "  while int(fechan[-2]) != int(fechaa[-2]):\n",
        "    cambio2=int(fechan[-2])-1#le restamos un mes para que tome el valor del mes anterior\n",
        "    if cambio2 <=9:#cambiamos el valor como explique arriba\n",
        "      fechan[-2]=\"0\"+str(cambio2)\n",
        "    else:\n",
        "      fechan[-2]=str(cambio2)\n",
        "    cuantosdias-=int(meses[fechan[-2]][-1])#le restamos a la variable la cantidad de dias que tiene el mes en especifico\n",
        "if int(fechan[0])<int(fechaa[0]):#si la cantidad de dias es menor al de la fecha actual\n",
        "  while fechan[0] != fechaa[0]:\n",
        "    cuantosdias+=1#sumamos 1 dia por cada vez que se repita el ciclo\n",
        "    cambio3=int(fechan[0])+1#modificamos el del dia valor y lo cambiamos\n",
        "    if cambio3 <=9:\n",
        "      fechan[0]=\"0\"+str(cambio3)\n",
        "    else:\n",
        "      fechan[0]=str(cambio3)\n",
        "elif int(fechan[0])>int(fechaa[0]):#si el valor del dia es mayor al dia actual\n",
        "  while fechan[0] != fechaa[0]:\n",
        "    cuantosdias-=1#restamos 1 dia por cada vez que se repita el ciclo\n",
        "    cambio3=int(fechan[0])-1#cambiamos el valor del dia\n",
        "    if cambio3 <=9:\n",
        "      fechan[0]=\"0\"+str(cambio3)\n",
        "    else:\n",
        "      fechan[0]=str(cambio3)\n",
        "for i in range(1904,2021,4):#tambien toca tener en cuenta los años bisiestos, i tomara estos años desde el 1904\n",
        "  if i >= int(fechann[-1]) :#si i es mayor o igual que la fecha de nacimiento le sumaremos 1 cada vez que esto pase\n",
        "    cuantosdias+=1\n",
        "  if i == int(fechann[-1]) and int(fechann[-2])>2:#ademas si la persona nacio en un año bisiesto pero despues de febrero, le restaremos 1 \n",
        "    cuantosdias-=1\n",
        "print(\"la fecha actual es \"+fechaa[0]+\" de \"+meses[fechaa[1]][0]+\" del \"+fechaa[2]+\", su fecha de nacimiento es \"+fechann[0]+\" de \"+meses[fechann[1]][0]+\" del \"+fechann[2]+\" y sus dias de vida son : \"+ str(cuantosdias))"
      ],
      "metadata": {
        "id": "EqaFWg4DEOnE",
        "colab": {
          "base_uri": "https://localhost:8080/"
        },
        "outputId": "0c0620c4-6e82-47f2-9fda-2ec4115e8d51"
      },
      "execution_count": 2,
      "outputs": [
        {
          "output_type": "stream",
          "name": "stdout",
          "text": [
            "ingrese la fecha actual en el formato dd/mm/aaaa 08/06/2022\n",
            "ingrese su fecha de nacimiento en el formato dd/mm/aaaa 06/11/2000\n",
            "la fecha actual es 08 de Junio del 2022, su fecha de nacimiento es 06 de Noviembre del 2000 y sus dias de vida son : 7884\n"
          ]
        }
      ]
    },
    {
      "cell_type": "markdown",
      "source": [
        "**PUNTO 3**"
      ],
      "metadata": {
        "id": "3BuX16FuEO4G"
      }
    },
    {
      "cell_type": "code",
      "source": [
        "#Código final :)\n",
        "print(\"Buenos días, bienvenido/a \") #El programa inicia saludando\n",
        "\n",
        "r={} #Iniciamos el primer diccionario donde iran los datos de los usuarios\n",
        "\n",
        "t=\"1\" #Iniciamos una variable tipo string ya que las entradas del programa siempre son de este tipo si no se transfroman, además este \"1\" nos ayudará con el ciclo del while y su finalización\n",
        "\n",
        "y=0 #Contador que nos ayuda a llevar la cuenta de los usuarios registrados en el programa\n",
        "\n",
        "ñ={} #Segundo diccionario donde se asignan los numeros de usuario y sus respectivos datos (diccionario d)\n",
        "\n",
        "while t==\"1\": #Empezamos el ciclo\n",
        "  y+=1 #Aquí empezamos a contar a los usuarios, también aumenta a medida que se cierre el ciclo\n",
        "  u=0 #Contador que nos sirve para contar el número de datos que se van a ingresar (en este caso 3), número que irá aumentando a medida que se cierre el siguiente ciclo\n",
        "  r={} #Nos sirve para borrar los datos de los anteriores usuarios registrados, esto con fin de que al siguiente usuario no se le añadan datos de más\n",
        "  while u<3: #Sirve para preguntar el número de datos que queremos que se ingresen (en este caso 3), para que después de ingresados los datos, se cierre el ciclo\n",
        "   e=input(\"Ingrese su clave: \") #Clave del diccionario d\n",
        "   p=input(\"Ingrese su valor: \") #Valor del diccionario d\n",
        "   r[e]=p #Aquí asignamos al diccionario las claves y los valores\n",
        "   u+=1 #Este renglón de codigo es el contador que sirve para que se pregunten 3 veces cada dato (clave y valor)\n",
        "  ñ[y]=r #Aquí asignamos a y (número de usuario) el diccionario d correspondiente a sus datos y al ciclo\n",
        "  if y<2: #Si solo tenemos 1 usuario, pregunta por el siguiente y vuelve a empezar el ciclo (en el problema se plantea que se necesitan mínimo 2 usuarios) \n",
        "   print(\"Siguiente usuario: \") #Código de texto\n",
        "  if y>=2: #Cuando el contador de usuarios llegue a 2 empezará a preguntar si deseamos ingresar más usuarios\n",
        "   t=input(\"Digite 1 solo si desea ingresar más usuarios \") #Código de texto\n",
        "print(ñ) #Imprimimos los usuarios y sus códigos\n",
        "print(\"El mínimo usuario sería: \",ñ[min(ñ)]) #Imprimimos los datos del usuario menor\n",
        "print(\"El máximo usuario sería: \",ñ[max(ñ)]) #Imprimimos los datos del usuario mayor"
      ],
      "metadata": {
        "id": "fy8ZoPfLEQcJ",
        "colab": {
          "base_uri": "https://localhost:8080/"
        },
        "outputId": "3449d739-c614-405e-a00d-a1b0d5ca23d5"
      },
      "execution_count": null,
      "outputs": [
        {
          "output_type": "stream",
          "name": "stdout",
          "text": [
            "Buenos días, bienvenido/a \n",
            "Ingrese su clave: holamundo\n",
            "Ingrese su valor: 2\n",
            "Ingrese su clave: red dead\n",
            "Ingrese su valor: II\n",
            "Ingrese su clave: Nose\n",
            "Ingrese su valor: 13\n",
            "Siguiente usuario: \n",
            "Ingrese su clave: Hola\n",
            "Ingrese su valor: 24\n",
            "Ingrese su clave: 1\n",
            "Ingrese su valor: 2\n",
            "Ingrese su clave: 4\n",
            "Ingrese su valor: s\n",
            "Digite 1 solo si desea ingresar más usuarios 1\n",
            "Ingrese su clave: asf\n",
            "Ingrese su valor: gas\n",
            "Ingrese su clave: gasg\n",
            "Ingrese su valor: asfa\n",
            "Ingrese su clave: agas\n",
            "Ingrese su valor: afas\n",
            "Digite 1 solo si desea ingresar más usuarios 2\n",
            "{1: {'holamundo': '2', 'red dead': 'II', 'Nose': '13'}, 2: {'Hola': '24', '1': '2', '4': 's'}, 3: {'asf': 'gas', 'gasg': 'asfa', 'agas': 'afas'}}\n",
            "El mínimo usuario seía:  {'holamundo': '2', 'red dead': 'II', 'Nose': '13'}\n",
            "El máximo usuario seía:  {'asf': 'gas', 'gasg': 'asfa', 'agas': 'afas'}\n"
          ]
        }
      ]
    }
  ]
}