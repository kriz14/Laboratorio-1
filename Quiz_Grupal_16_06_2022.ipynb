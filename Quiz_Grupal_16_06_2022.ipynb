{
  "nbformat": 4,
  "nbformat_minor": 0,
  "metadata": {
    "colab": {
      "name": "Quiz Grupal 16/06/2022",
      "provenance": [],
      "collapsed_sections": [],
      "include_colab_link": true
    },
    "kernelspec": {
      "name": "python3",
      "display_name": "Python 3"
    },
    "language_info": {
      "name": "python"
    }
  },
  "cells": [
    {
      "cell_type": "markdown",
      "metadata": {
        "id": "view-in-github",
        "colab_type": "text"
      },
      "source": [
        "<a href=\"https://colab.research.google.com/github/kriz14/Repo-Programacion_2022_1/blob/main/Quiz_Grupal_16_06_2022.ipynb\" target=\"_parent\"><img src=\"https://colab.research.google.com/assets/colab-badge.svg\" alt=\"Open In Colab\"/></a>"
      ]
    },
    {
      "cell_type": "code",
      "execution_count": null,
      "metadata": {
        "id": "P6CfwR1f8Ord"
      },
      "outputs": [],
      "source": [
        "import json\n",
        "import requests\n",
        "from pprint import pprint"
      ]
    },
    {
      "cell_type": "code",
      "source": [
        "response = requests.get(\n",
        "    \"https://fp.josedomingo.org/lmgs/u05/ej2.json\")\n",
        "prueba = json.loads(response.text)"
      ],
      "metadata": {
        "id": "O8joiwKq8oa0"
      },
      "execution_count": null,
      "outputs": []
    },
    {
      "cell_type": "code",
      "source": [
        "pprint(prueba)\n",
        "print(type(prueba))"
      ],
      "metadata": {
        "id": "eReeDD6p8y7k",
        "outputId": "42dc1fab-907d-4bbd-8179-440209b92891",
        "colab": {
          "base_uri": "https://localhost:8080/",
          "height": 184
        }
      },
      "execution_count": null,
      "outputs": [
        {
          "output_type": "error",
          "ename": "NameError",
          "evalue": "ignored",
          "traceback": [
            "\u001b[0;31m---------------------------------------------------------------------------\u001b[0m",
            "\u001b[0;31mNameError\u001b[0m                                 Traceback (most recent call last)",
            "\u001b[0;32m<ipython-input-2-a077e9f9bd74>\u001b[0m in \u001b[0;36m<module>\u001b[0;34m()\u001b[0m\n\u001b[0;32m----> 1\u001b[0;31m \u001b[0mpprint\u001b[0m\u001b[0;34m(\u001b[0m\u001b[0mprueba\u001b[0m\u001b[0;34m)\u001b[0m\u001b[0;34m\u001b[0m\u001b[0;34m\u001b[0m\u001b[0m\n\u001b[0m\u001b[1;32m      2\u001b[0m \u001b[0mprint\u001b[0m\u001b[0;34m(\u001b[0m\u001b[0mtype\u001b[0m\u001b[0;34m(\u001b[0m\u001b[0mprueba\u001b[0m\u001b[0;34m)\u001b[0m\u001b[0;34m)\u001b[0m\u001b[0;34m\u001b[0m\u001b[0;34m\u001b[0m\u001b[0m\n",
            "\u001b[0;31mNameError\u001b[0m: name 'pprint' is not defined"
          ]
        }
      ]
    },
    {
      "cell_type": "markdown",
      "source": [
        "**PUNTO 1**\n"
      ],
      "metadata": {
        "id": "ZT4dBXwr9dr-"
      }
    },
    {
      "cell_type": "code",
      "source": [
        "n=0\n",
        "for y in prueba: \n",
        "  n+=1\n",
        "print(f\"La cantidad de pruebas es de: {n}\")"
      ],
      "metadata": {
        "id": "Bdi0vcoG9dCv",
        "colab": {
          "base_uri": "https://localhost:8080/"
        },
        "outputId": "311e2e0b-6e5b-4082-ba4d-c0286ed289ec"
      },
      "execution_count": null,
      "outputs": [
        {
          "output_type": "stream",
          "name": "stdout",
          "text": [
            "La cantidad de pruebas es de: 7\n"
          ]
        }
      ]
    },
    {
      "cell_type": "markdown",
      "source": [
        "**PUNTO 2**\n"
      ],
      "metadata": {
        "id": "41LQHWuq9jF-"
      }
    },
    {
      "cell_type": "code",
      "source": [
        "mas_2=\"\"\n",
        "for i in prueba:\n",
        "  if int(i[\"Horas\"])>2:\n",
        "    mas_2+=(i[\"Titulo\"])+\"\\n\"\n",
        "print(\"Las pruebas que duran más de dos horas son:\")\n",
        "print(mas_2)"
      ],
      "metadata": {
        "id": "BFfLOFRv9hle",
        "outputId": "b3698b5a-f9f0-41aa-bc0a-77e1944134b6",
        "colab": {
          "base_uri": "https://localhost:8080/"
        }
      },
      "execution_count": null,
      "outputs": [
        {
          "output_type": "stream",
          "name": "stdout",
          "text": [
            "Las pruebas que duran más de dos horas son:\n",
            "Inglés - Prueba de nivel - para cursos de Inglés para la Docencia y preparatorio de GESE Trinity\n",
            "Inglés - Prueba de nivel - Para cursos segundo cuatrimestre\n",
            "\n"
          ]
        }
      ]
    },
    {
      "cell_type": "markdown",
      "source": [
        "**PUNTO 3**"
      ],
      "metadata": {
        "id": "Ve-sKR-L9nWu"
      }
    },
    {
      "cell_type": "code",
      "source": [
        "#pprint(prueba)\n",
        "#print(type(prueba))\n",
        "for i in prueba:\n",
        "  for j in i:\n",
        "    if j==\"TipoFormacion\":\n",
        "      if i[j]==\"NoPresencial\":\n",
        "        print(i[\"URL\"])"
      ],
      "metadata": {
        "id": "OcjjVX1m9q0G",
        "colab": {
          "base_uri": "https://localhost:8080/"
        },
        "outputId": "1e76ecab-ce09-497d-c7d3-b2193ad56308"
      },
      "execution_count": null,
      "outputs": [
        {
          "output_type": "stream",
          "name": "stdout",
          "text": [
            "https://sede.fg.ull.es/es/idioma/detalle/A15050163/aleman-prueba-de-nivel-para-cursos-segundo-cuatrimestre\n"
          ]
        }
      ]
    },
    {
      "cell_type": "markdown",
      "source": [
        "**PUNTO 4**"
      ],
      "metadata": {
        "id": "ySxRfQ0V9rNm"
      }
    },
    {
      "cell_type": "code",
      "source": [
        "ID = str(input(\"Ingrese el ID del curso \"))\n",
        "nombre_profes = []\n",
        "for a in prueba:\n",
        "    if a['ID'] == ID:\n",
        "      titulo = a['Titulo']\n",
        "      for i in a['Profesorado']:\n",
        "         nombre_profes.append(i['NombreCompleto'])\n",
        "\n",
        "print(f'El titulo del curso es {titulo} y sus profesores son {nombre_profes}')"
      ],
      "metadata": {
        "id": "FffOJUyD9tnG",
        "colab": {
          "base_uri": "https://localhost:8080/"
        },
        "outputId": "fdac60a4-494d-47c1-9847-457163cc3ba0"
      },
      "execution_count": null,
      "outputs": [
        {
          "output_type": "stream",
          "name": "stdout",
          "text": [
            "Ingrese el ID del curso A15050164\n",
            "El titulo del curso es Italiano - Prueba de nivel - Para cursos segundo cuatrimestre y sus profesores son ['Nicola Cataldo']\n"
          ]
        }
      ]
    },
    {
      "cell_type": "markdown",
      "source": [
        "**PUNTO 5**"
      ],
      "metadata": {
        "id": "d2fstETYAYM2"
      }
    },
    {
      "cell_type": "code",
      "source": [
        "diccionario = {}\n",
        "dicsupremo={}\n",
        "dicsupremo[\"Pruebas\"] =[]\n",
        "for a in prueba:\n",
        "  Titulo= a[\"Titulo\"]\n",
        "  dicsupremo[\"Pruebas\"].append(Titulo)\n",
        "  diccionario['Titulo'] = Titulo\n",
        "  for i in a['Profesorado']:\n",
        "    diccionario['Profesorado'] = i[\"NombreCompleto\"]\n",
        "    dicsupremo[\"Pruebas\"].append(i[\"NombreCompleto\"])\n",
        "pprint(dicsupremo)\n",
        "with open(\"dicsupremo.json\",\"w\")as file:\n",
        "  json.dump(dicsupremo, file, indent=4)\n"
      ],
      "metadata": {
        "id": "jPxPi37-AXoP",
        "colab": {
          "base_uri": "https://localhost:8080/"
        },
        "outputId": "a02f30b7-32b0-4884-bdae-024073749625"
      },
      "execution_count": 164,
      "outputs": [
        {
          "output_type": "stream",
          "name": "stdout",
          "text": [
            "{'Pruebas': ['Alemán - Prueba de nivel - Para cursos segundo cuatrimestre',\n",
            "             'Reinhard Dlugay',\n",
            "             'Español - Prueba de nivel - Para cursos segundo cuatrimestre',\n",
            "             'Beatriz Hernández Bravo',\n",
            "             'Francés - Prueba de nivel - Para cursos segundo cuatrimestre',\n",
            "             'Marie-Morgane Le Folgoc',\n",
            "             'Inglés - Prueba de nivel - para cursos de Inglés para la '\n",
            "             'Docencia y preparatorio de GESE Trinity',\n",
            "             'María Luisa Capón Mouriz',\n",
            "             'Inglés - Prueba de nivel - Para cursos segundo cuatrimestre',\n",
            "             'María Luisa Capón Mouriz',\n",
            "             'Richard James Murison',\n",
            "             'María Isabel Rodríguez Rodríguez',\n",
            "             'Beatriz Freire Betancor',\n",
            "             'Peggy Gerd Henriksson Carlsson',\n",
            "             'Eva Miriam Amaral Ribeiro Sampaio de Andrade',\n",
            "             'Marta María González Orta',\n",
            "             'Inglés - Prueba de nivel - Para preparatorios del '\n",
            "             'FCE/CAE/CPE/IELTS',\n",
            "             'Clive Tyrell',\n",
            "             'Italiano - Prueba de nivel - Para cursos segundo cuatrimestre',\n",
            "             'Nicola Cataldo']}\n"
          ]
        }
      ]
    }
  ]
}