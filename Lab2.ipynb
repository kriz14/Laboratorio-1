{
  "nbformat": 4,
  "nbformat_minor": 0,
  "metadata": {
    "colab": {
      "name": "Lab2.ipynb",
      "provenance": [],
      "include_colab_link": true
    },
    "kernelspec": {
      "name": "python3",
      "display_name": "Python 3"
    },
    "language_info": {
      "name": "python"
    }
  },
  "cells": [
    {
      "cell_type": "markdown",
      "metadata": {
        "id": "view-in-github",
        "colab_type": "text"
      },
      "source": [
        "<a href=\"https://colab.research.google.com/github/kriz14/Repo-Programacion_2022_1/blob/main/Lab2.ipynb\" target=\"_parent\"><img src=\"https://colab.research.google.com/assets/colab-badge.svg\" alt=\"Open In Colab\"/></a>"
      ]
    },
    {
      "cell_type": "markdown",
      "metadata": {
        "id": "DkoXm54uQpZO"
      },
      "source": [
        "##Laboratorio 2\n",
        "#cumplir con cada uno de los 9 retos en sus grupos de trabajo\n",
        "#y subir el Colab a el repositorio de un seleccionado,\n",
        "for: 30/05/2022 12:59"
      ]
    },
    {
      "cell_type": "markdown",
      "metadata": {
        "id": "fzOGmk_1SRtK"
      },
      "source": [
        "##1. Define a procedure histogram () that takes a list of whole numbers and prints a histogram on the screen. Example: procedure ([4, 9, 7]) should print the following:\n",
        "\n",
        "#********\n",
        "#*************\n",
        "#***********"
      ]
    },
    {
      "cell_type": "code",
      "source": [
        "def histogram (lista):\n",
        "    #here, your code\n",
        "  histograma = '' #iniciamos la variable que nos dira el valor de cada parte del histograma\n",
        "  for i in lista: #iteramos la lista de numeros que sea ingresada\n",
        "    histograma += ((i*'*') + '\\n' )#a cada iteracion la multiplicamos por el string \"*\" asi dependiendo de i se imprimira en pantalla esos asteriscos cada i con un salto de linea\n",
        "  return histograma "
      ],
      "metadata": {
        "id": "cIbxmeO62XeB"
      },
      "execution_count": null,
      "outputs": []
    },
    {
      "cell_type": "code",
      "source": [
        "ejemplo=[4,9,7,5,7,8]\n",
        "print(histogram(ejemplo))"
      ],
      "metadata": {
        "colab": {
          "base_uri": "https://localhost:8080/"
        },
        "id": "30o70QJRdnmD",
        "outputId": "c92ae595-5922-4398-9ae0-291b7e2a6b7a"
      },
      "execution_count": null,
      "outputs": [
        {
          "output_type": "stream",
          "name": "stdout",
          "text": [
            "****\n",
            "*********\n",
            "*******\n",
            "*****\n",
            "*******\n",
            "********\n",
            "\n"
          ]
        }
      ]
    },
    {
      "cell_type": "markdown",
      "metadata": {
        "id": "rG_FvRddSnHW"
      },
      "source": [
        "#2. Write a longer_long () function that takes a list of words and returns the longest."
      ]
    },
    {
      "cell_type": "code",
      "metadata": {
        "id": "L0Yr05pUTnBv"
      },
      "source": [
        "def longer_long(lista):\n",
        "  mas_larga = \"\" #generamos una variable que se actualiza cada que el programa encuentra una palabra más grande (la palabra con el numero de letras mayor)\n",
        "  #here, your code\n",
        "  for i in range(len(lista)):#iterar cada elemento de la lista que se ingrese, y utilizamos len para devolver el numero de letras de cada string\n",
        "    if len(lista[i]) > len(mas_larga): #comparamos cuantas letras tiene cada iteración con cuantas letras tiene la palabra mas larga hasta ese momento \n",
        "      mas_larga = lista[i] #si se cumple la condición anterior que la iteracion es mayor a la palabra, esta actualiza la variable mas_larga por esa nueva palabra que sera hasta ese mojmento la más larga\n",
        "  print(\"La palabra más larga es:\", mas_larga)"
      ],
      "execution_count": null,
      "outputs": []
    },
    {
      "cell_type": "code",
      "source": [
        "lista = ['123','1234','abc','abcd',\"a1b2c3d4\"]\n",
        "longer_long(lista)"
      ],
      "metadata": {
        "colab": {
          "base_uri": "https://localhost:8080/"
        },
        "id": "TcWLplWwXUL-",
        "outputId": "c898e771-4137-4ac6-ba43-cac176e5d36b"
      },
      "execution_count": null,
      "outputs": [
        {
          "output_type": "stream",
          "name": "stdout",
          "text": [
            "La palabra más larga es: a1b2c3d4\n"
          ]
        }
      ]
    },
    {
      "cell_type": "markdown",
      "metadata": {
        "id": "6Z6cu4VfUYCm"
      },
      "source": [
        "#3. Write a program that tells the user to enter a string. The program has to evaluate the string and say how many capital letters it has."
      ]
    },
    {
      "cell_type": "code",
      "metadata": {
        "id": "4Ad4oDmMUlrm"
      },
      "source": [
        "def filt_words(entrada):\n",
        "  palabra = [] #Crear un arreglo para separar la palabra por letras\n",
        "  for i in entrada:\n",
        "    i = ord(i) #Convertir la palabra en formato ASCII\n",
        "    palabra.append(i) #Agregar cada letra al arreglo\n",
        "  mayus=[] # crear un arreglo con True si la letra del arreglo anterior es mayuscula\n",
        "  mayuscula = 0 #Generar un contador que es el que me permite saber cuantas mayusculas hay en el string\n",
        "  for a in palabra: \n",
        "    if a >= 65 and a <= 90: #desde 65 a 90 es el abecedario en mayusculas\n",
        "      a = True # Si a es mayuscula nos va a arrojar un True\n",
        "    if a == True:\n",
        "      mayuscula +=1 #Cada vez que se haga el ciclo y a sea True se suma 1 \n",
        "  print(f\"Su palabra tiene {mayuscula} letras Mayusculas\")"
      ],
      "execution_count": null,
      "outputs": []
    },
    {
      "cell_type": "code",
      "source": [
        "entrada= input(\"Ingresa la palabra \")\n",
        "print(filt_words(entrada))"
      ],
      "metadata": {
        "colab": {
          "base_uri": "https://localhost:8080/"
        },
        "id": "UNqGZ6dMgHaD",
        "outputId": "043112ac-bc96-4c9c-afb6-ce8a0d25dfc7"
      },
      "execution_count": null,
      "outputs": [
        {
          "output_type": "stream",
          "name": "stdout",
          "text": [
            "Ingresa la palabra sdgsrhAASDHSFH\n",
            "Su palabra tiene 8 letras Mayusculas\n",
            "None\n"
          ]
        }
      ]
    },
    {
      "cell_type": "markdown",
      "metadata": {
        "id": "h_rpoZ4pUtRc"
      },
      "source": [
        "#4.Build a small program that converts binary numbers to integers. Example:\n",
        "#![image.png](data:image/png;base64,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)"
      ]
    },
    {
      "cell_type": "code",
      "metadata": {
        "id": "5ynFNOTKVSq9"
      },
      "source": [
        "def aDecimal(d):\n",
        " l=[] #Inicializamos una lista que nos será de utilidad para tomar a cada uno de los elementos del número binario de manera independiente\n",
        " a=0 #Inicializamos una variale que más tarde nos ayudará para las potencias del dos y su suma, osea, el resultado de la conversión de binario a decimal\n",
        " n=0 #Inicializamos una variable que sirve como contador en las potencias del 2 a la n, osea 2**n, donde n va aumentando en +1\n",
        " for i in d: #Tomamos los elementos de la cadena\n",
        "   l.append(int(i)) #Añadimos los elementos de la cadena a una lista\n",
        " l=l[::-1] #Damos vuelta a la lista para que tome los elementos iniciales de l hacia la izquierda\n",
        " for k in l: #Tomamos los elementos de la lista\n",
        "   a+=k*(2**n) #Hacemos la operación que resultará en el número decimal, tomando todos los elementos por 2 a la n y finalmente sumamos todos estos resultados con +=\n",
        "   n=n+1 #Esta línea muestra la función del contador, que va aumentando en 1 cada vez que tomamos un elemento de la lista\n",
        " return a #Resultado final de la conversión"
      ],
      "execution_count": 2,
      "outputs": []
    },
    {
      "cell_type": "code",
      "source": [
        "ejemplo = \"01110\"\n",
        "print(aDecimal(ejemplo))\n",
        "ejemplo_1 = \"01110101\"\n",
        "print(aDecimal(ejemplo_1))"
      ],
      "metadata": {
        "colab": {
          "base_uri": "https://localhost:8080/"
        },
        "id": "4YTWxUPZv5cv",
        "outputId": "d7f91a40-856c-4716-da08-a5d0d0e0e4de"
      },
      "execution_count": 14,
      "outputs": [
        {
          "output_type": "stream",
          "name": "stdout",
          "text": [
            "14\n",
            "117\n"
          ]
        }
      ]
    },
    {
      "cell_type": "markdown",
      "metadata": {
        "id": "56HLGw30VjiX"
      },
      "source": [
        "#5.Create a function count_vols (), which receives a word and counts how many letters \"a\" it has, how many letters \"e\" it has, and so on until all the vowels are completed.\n",
        "You can make the user who chooses the word.\n",
        "only in lower letters"
      ]
    },
    {
      "cell_type": "code",
      "metadata": {
        "id": "wV0z9j6mQiX1"
      },
      "source": [
        "def contar_vocales(c):\n",
        "  x=0 #Todas las varibles=0 van a servir como contador de las vocales en la cadena\n",
        "  q=0\n",
        "  w=0\n",
        "  r=0\n",
        "  t=0\n",
        "  for i in c: #Tomamos todos los elementos de la cadena\n",
        "\n",
        "    if i==\"a\" or i==\"A\": #Condición que nos ayuda a saber si un elemento de la cadena es a (Mayúscula y minúscula)\n",
        "\n",
        "      x+=1 #Aquí podemos ver el contador que nos ayuda a calcular la cantidad de a en la cadena, sumando cada vez que i==\"a\" or i==\"A\"\n",
        "\n",
        "    if i==\"e\" or i==\"E\": #Condición que nos ayuda a saber si un elemento de la cadena es e (Mayúscula y minúscula)\n",
        "\n",
        "      q+=1 #Aquí podemos ver el contador que nos ayuda a calcular la cantidad de a en la cadena, sumando cada vez que i==\"e\" or i==\"E\"\n",
        "\n",
        "    if i==\"I\" or i==\"i\": #Condición que nos ayuda a saber si un elemento de la cadena es i (Mayúscula y minúscula)\n",
        "\n",
        "      w+=1 #Aquí podemos ver el contador que nos ayuda a calcular la cantidad de a en la cadena, sumando cada vez que i==\"i\" or i==\"I\"\n",
        "\n",
        "    if i==\"o\" or i==\"O\": #Condición que nos ayuda a saber si un elemento de la cadena es o (Mayúscula y minúscula)\n",
        "\n",
        "      r+=1 #Aquí podemos ver el contador que nos ayuda a calcular la cantidad de a en la cadena, sumando cada vez que i==\"o\" or i==\"O\"\n",
        "\n",
        "    if i==\"u\" or i==\"U\": #Condición que nos ayuda a saber si un elemento de la cadena es u (Mayúscula y minúscula)\n",
        "\n",
        "      t+=1 #Aquí podemos ver el contador que nos ayuda a calcular la cantidad de a en la cadena, sumando cada vez que i==\"u\" or i==\"U\"\n",
        "\n",
        "  return f'La cantidad de vocales en la oración son las siguientes, a: {x}, e: {q},  i: {w}, o: {r}, u: {t}'#Al final ponemos un string para mejor comprensión de la cantidad de vocales, mostrando las vocales y el resultado de sus contadores al frente"
      ],
      "execution_count": 9,
      "outputs": []
    },
    {
      "cell_type": "code",
      "source": [
        "ejemplo = \"aeiou murcielago auto\"\n",
        "print(contar_vocales(ejemplo))\n",
        "ejemplo_1 = \"a ee iii oooo uuuuu\"\n",
        "print(contar_vocales(ejemplo_1))"
      ],
      "metadata": {
        "colab": {
          "base_uri": "https://localhost:8080/"
        },
        "id": "QvxzvbJVwZMI",
        "outputId": "f3da0739-c118-4f8c-c0b8-b353ad764644"
      },
      "execution_count": 13,
      "outputs": [
        {
          "output_type": "stream",
          "name": "stdout",
          "text": [
            "La cantidad de vocales en la oración son las siguientes, a: 3, e: 2,  i: 2, o: 3, u: 3\n",
            "La cantidad de vocales en la oración son las siguientes, a: 1, e: 2,  i: 3, o: 4, u: 5\n"
          ]
        }
      ]
    },
    {
      "cell_type": "markdown",
      "metadata": {
        "id": "cW8wgs4sWqe0"
      },
      "source": [
        "#6.Write a function is leap () that determines if a given year is a leap year \n",
        "A leap year is divisible by 4, but not by 100. It is also divisible by 400"
      ]
    },
    {
      "cell_type": "code",
      "metadata": {
        "id": "mVc2L_lhWqwC"
      },
      "source": [
        "def es_bisiesto(año):\n",
        "  if año%4==0 and año%100!=0 or año%400==0: #Condición que asegura que el año sea bisiesto\n",
        "    print(f\"{año} es un año bisiesto\") # Respuesta en caso de que se cumpla con la condición\n",
        "  else: #Instrucción en dado caso no se cumpla con la condición\n",
        "    print(f\"{año} no es un año bisiesto\") #Respuesta del \"else\""
      ],
      "execution_count": null,
      "outputs": []
    },
    {
      "cell_type": "code",
      "source": [
        "año=int(input(\"Ingrese un año para determinar si es bisiesto o no: \"))\n",
        "es_bisiesto(año)"
      ],
      "metadata": {
        "colab": {
          "base_uri": "https://localhost:8080/"
        },
        "id": "ejS25FxshS8d",
        "outputId": "7fbe5811-14ad-49b9-9ed3-5165ce70e017"
      },
      "execution_count": null,
      "outputs": [
        {
          "output_type": "stream",
          "name": "stdout",
          "text": [
            "Ingrese un año para determinar si es bisiesto o no: 2000\n",
            "2000 es un año bisiesto\n"
          ]
        }
      ]
    },
    {
      "cell_type": "markdown",
      "metadata": {
        "id": "5BuKdB_8YEzH"
      },
      "source": [
        "#7. Write a program that asks for two words and tells whether or not they rhyme. If the last three letters match, you have to say that they rhyme. If only the last two coincide, he has to say that they rhyme a bit and if not, that they do not rhyme.\n",
        "Example:\n",
        "![image.png](data:image/png;base64,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)"
      ]
    },
    {
      "cell_type": "code",
      "metadata": {
        "id": "DNbrtrbAYeBG"
      },
      "source": [
        "def rim(uno,dos):\n",
        "  palabra_1=[] #lista que contendra cada letra de la primera palabra\n",
        "  palabra_2=[] #lista que contendra cada letra de la segunda palabra\n",
        "  for i in uno: #for para recorrer cada letra de la primera palabra\n",
        "    palabra_1.append(i) #guardar cada letra como un elemento en la lista palabra_1\n",
        "  for o in dos: #for para recorrer cada letra de la segunda palabra\n",
        "    palabra_2.append(o) #guardar cada letra como un elemento en la lista pañabra_2\n",
        "\n",
        "  if palabra_1[-1]==palabra_2[-1] and palabra_1[-2]==palabra_2[-2] and palabra_1[-3]==palabra_2[-3]: #comparar si las últimas tres letras son iguales\n",
        "    rime=\"Sus palabras Riman\" #Valor que debe tomar la variable rime si se cumple la primera condición \n",
        "  elif palabra_1[-1]==palabra_2[-1] and palabra_1[-2]==palabra_2[-2]: #Segunda condición en dado caso que no se cumpla la primera, en este caso compara las dos últimas letras para mirar si son iguales\n",
        "    rime=\"Sus palabras Riman un poco\" #Valor que debe tomar la variable rime si se cumple la primera condición\n",
        "  else: #Instrucción a ejecutar si no se cumple ninguna de las condiciones\n",
        "    rime=\"Sus palabras No riman\" #Valor que debe tomar la variable rime si no se cumple ninguna condición\n",
        "  #here, your code\n",
        "  #can return \"Not rhyme\", \"Not rhyme\" or \"rhyme a little\"\n",
        "  return rime"
      ],
      "execution_count": null,
      "outputs": []
    },
    {
      "cell_type": "code",
      "source": [
        "uno=input(\"Ingrese una palabra (sin tildes en caso de que tenga): \")\n",
        "dos=input(\"Ingrese una palabra (sin tildes en caso de que tenga): \")\n",
        "print(rim(uno,dos))"
      ],
      "metadata": {
        "colab": {
          "base_uri": "https://localhost:8080/"
        },
        "id": "TRm0D_VUhqFY",
        "outputId": "7fba1875-1db4-4224-c338-1bc7b875cc4f"
      },
      "execution_count": null,
      "outputs": [
        {
          "output_type": "stream",
          "name": "stdout",
          "text": [
            "Ingrese una palabra (sin tildes en caso de que tenga): escenario\n",
            "Ingrese una palabra (sin tildes en caso de que tenga): precario\n",
            "Sus palabras Riman\n"
          ]
        }
      ]
    },
    {
      "cell_type": "markdown",
      "metadata": {
        "id": "RX_TI52-Z_bl"
      },
      "source": [
        "#8.It has a program that asks the user for a dollar amount, an interest rate, and a number of years. It shows on the screen how much the initial capital will have been converted after those years if the interest rate entered is applied each year.\n",
        "Remember that a capital C dollars at an interest of x percent for n years becomes C * (1 + x / 100) raised to n (years). Test the program knowing that an amount of $ 10,000 at 4.5% annual interest becomes $ 24,117.14 after 20 years."
      ]
    },
    {
      "cell_type": "code",
      "metadata": {
        "id": "Y2Xi2BT-aREe"
      },
      "source": [
        "def intereses (plata,interes,tiempo):#creamos la funcion llamada intereses\n",
        "  platat=plata*(1+interes/100)**tiempo#hacemos las operaciones necesarias para poder calcular el capital total\n",
        "  platat2=\"{:.2f}\".format(platat)#con este formato podemos agregar la cantidad de decimales preferidos\n",
        "  return platat2#regresamos el resultado\n",
        "\n"
      ],
      "execution_count": null,
      "outputs": []
    },
    {
      "cell_type": "code",
      "source": [
        "moni=float(input(\"ingrese la cantidad de dinero inicial \"))\n",
        "inte=float(input(\"ingese el interes deseado \"))\n",
        "yirs=float(input(\"ingrese cuantos años desea \"))\n",
        "intereses(moni,inte,yirs)"
      ],
      "metadata": {
        "colab": {
          "base_uri": "https://localhost:8080/",
          "height": 87
        },
        "id": "FXrH0pkcsYg8",
        "outputId": "72ef962b-d4cf-4c09-ccf5-b632ddbe92ee"
      },
      "execution_count": null,
      "outputs": [
        {
          "name": "stdout",
          "output_type": "stream",
          "text": [
            "ingrese la cantidad de dinero inicial 9000000\n",
            "ingese el interes deseado 1.7\n",
            "ingrese cuantos años desea 2\n"
          ]
        },
        {
          "output_type": "execute_result",
          "data": {
            "text/plain": [
              "'9308601.00'"
            ],
            "application/vnd.google.colaboratory.intrinsic+json": {
              "type": "string"
            }
          },
          "metadata": {},
          "execution_count": 33
        }
      ]
    },
    {
      "cell_type": "markdown",
      "source": [
        ""
      ],
      "metadata": {
        "id": "P1XcXQvFQ59f"
      }
    },
    {
      "cell_type": "markdown",
      "source": [
        "##9. Create an algorithm that generates 10 files iteratively, call this files 'tabla_del_n.txt' been n the (0 to 9) numbers with the multiplication tables from (0 to 9)\n",
        "following the format:\n",
        "![image.png](data:image/png;base64,iVBORw0KGgoAAAANSUhEUgAAAIAAAACCCAYAAACO9sDAAAAD0UlEQVR4nO2cXY7bIBRGcdXHzgKa/a8tXUD6Tp88cRFguPzE5jtHGikTJ0Di44ttPmXz3nsHsvz49ADgsyCAOAggDgKI01WAbduy2/a/UZS2PWMsPZgxvp+lHbdeLOzvv8KXfqWx5PDeu23bmr/7HFEBjl8QV4lrExXgjOOREwqS22Zts/R9Z9t6yJxrM7VtP5BSn9Eyzl6fzSRAOPiwc0sFOWszRvi645cSa6O1ou3tx9o46y98nGpzPzfZ/z+bBlqrdXMFSA2oZ5tWRrSZ+3yl30vqgNkfl467R0WrFiB31FkZ0aZzfb6gK/Q38mSw6TLwSkdt7H2zx9dj7LOvTKorwFmJKjnRCee9mrKXGkvsJCt2rR++Ljevp/qLfcZcf9Y2Z7CxGngfRkwD3Aq+EZc7B4D7gwDimO4DXIE/f9Pbfv+a29/j6763zKkA4iCAOAggTlSAq6+TQz+SeYDcTYezbWFbI3l8/d/f87VWf6MZMgV476embp4v/70jwh20Qn8jqboMTC1atK5Jx9bEj/+neHxtU4/A2f3NIFkBYgs0xyN7f2yZJmJ9Hd8XPldCzc45hkKt4dBVZBhyI8hSCcKVvRpqd0breckqO9+5EwEsQYSWacCyLGzZGS2p55V2vnOD7wPUZPt2rNkA58p3znH6yk1jvfq7MmYBYvNnGGwsbef43vD5HMcz8Vln/zP7m8HpOUBsGsgdMZa5v6WN2Ufg3Y/4kKIKcNeVLjiHtQBxEEAcQqHi3DYRNJvZCaRZMAWIgwDiIIA4JILEuX0iyLqCaIVEUAGzEkGf+gkbEkHuGomg2Tt/hdW/kGUSQTWQCHqzRCKoFhJBb26fCLJAIujN0FvBLYmgkVWgV9sryGAWoOZnUkrasfykm/WnXqw8X36pNJBzN08EfeoScCVIBInDWoA4CCAOAoiDAOIggDgIIA6BEHGWCYTM6Ms5AiFFzA6E7H+zKheBEEcgZBUIhBAI6c8nAiFW4SyssvOdWyQQYhljCIGQAcwIhFirTQ9WkGGJQMisS0ECIYfncq+vgUDIZyEQIg5rAeIggDj8RIw4VABxEEAcBBAHAcRBAHEQQBwEEAcBxEEAcRBAnKQA1qwc3AsqgDjJQAhrRBpQAcRBAHEQQBwEEAcBxEEAcRBAHAQQBwHEQQBxEEAcBBAHAcRBAHEIhIhDBRCHQIg4VABxEEAcBBAHAcRBAHEQQBwEEAcBxEEAcRBAHAQQBwHEQQBxEEAcAiHiUAHEIRAiDhVAHAQQBwHEQQBxEEAcBBAHAcRBAHEQQBwEEAcBxEEAcf4BB2cTktECnSoAAAAASUVORK5CYII=)"
      ],
      "metadata": {
        "id": "bZy7qjiyFY5D"
      }
    },
    {
      "cell_type": "code",
      "source": [
        "for c in range(0,10):# c recorrera los numeros del 0 al 9 para crear las tablas\n",
        "  archivos=open(f\"/content/drive/MyDrive/Colab Notebooks/tabla_del_{c}.txt\",\"w\")#creamos o abrimos los archivos que van del 0 al 9\n",
        "  archivos.write(\"tabla del \"+str(c)+\"\\n\")#ponemos el titulo al archivo\n",
        "  for i in range(0,10):#i tambien recorrera los numeros del 0 al 9 para terminar nuestra tabla de multiplicar\n",
        "    resultado=c*i#efectuamos la operacion entre nuestras dos variables\n",
        "    archivos.write(str(c)+\"x\"+str(i)+\"=\"+str(resultado)+\"\\n\")# añadimos el resultado anterior al archivo \n",
        "  \n",
        "  archivos.close()#cerramos el archivo\n"
      ],
      "metadata": {
        "id": "nve8UhE9GZxr"
      },
      "execution_count": null,
      "outputs": []
    },
    {
      "cell_type": "markdown",
      "source": [
        "##On the same file system, make an algorithm that asks the user for a number n and a number m, so that it shows the user of the file table_del_n.txt, the multiplication 'm'."
      ],
      "metadata": {
        "id": "f6Kj485UL1yt"
      }
    },
    {
      "cell_type": "code",
      "source": [
        "n=input(\"n \")#n\n",
        "m=int(input(\"m \"))#m\n",
        "archivos=open(f\"/content/drive/MyDrive/Colab Notebooks/tabla_del_{n}.txt\",\"r\")#abrimos el archivo indicado como n\n",
        "listaaa=[]#creamos una lista\n",
        "listaaa=archivos.readlines()#añadimos a la lista anterior las lineas de nuestro archivo\n",
        "print(listaaa[m+1])#imprimimos la parte de la lista que nos interesa mostrarle al usuario\n",
        "archivos.close()#cerramos el archivo\n"
      ],
      "metadata": {
        "id": "IOH7elShMniQ"
      },
      "execution_count": null,
      "outputs": []
    }
  ]
}