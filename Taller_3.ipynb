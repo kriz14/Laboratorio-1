{
  "nbformat": 4,
  "nbformat_minor": 0,
  "metadata": {
    "colab": {
      "name": "Copia de Taller_3.ipynb",
      "provenance": [],
      "include_colab_link": true
    },
    "kernelspec": {
      "name": "python3",
      "display_name": "Python 3"
    },
    "language_info": {
      "name": "python"
    }
  },
  "cells": [
    {
      "cell_type": "markdown",
      "metadata": {
        "id": "view-in-github",
        "colab_type": "text"
      },
      "source": [
        "<a href=\"https://colab.research.google.com/github/kriz14/Repo-Programacion_2022_1/blob/main/Taller_3.ipynb\" target=\"_parent\"><img src=\"https://colab.research.google.com/assets/colab-badge.svg\" alt=\"Open In Colab\"/></a>"
      ]
    },
    {
      "cell_type": "markdown",
      "source": [
        "Ejemplo bucle tipo While \n",
        "implementando libreria de numeros aleatorios \"random\" visitar\n",
        "https://www.geeksforgeeks.org/python-random-module/#:~:text=Python%20Random%20module%20is%20an,a%20list%20or%20string%2C%20etc.\n",
        "Función chr() opuesta a ord(), es decir nos lleva de ascii a caracteres"
      ],
      "metadata": {
        "id": "syngUWgzB-eI"
      }
    },
    {
      "cell_type": "code",
      "source": [
        "#------ Libreria necesaria para generar numeros aleatorios\n",
        "import random as rn\n",
        "#-------codigo-----\n",
        "tamaño=5#cantidad de caracteres\n",
        "continuar=True\n",
        "intentos_permitidos=5\n",
        "intentos=0\n",
        "print('Este programa emulador de acceso, Solo le permitirá continuar si escribe correctamente\\n los '+str(tamaño)+' caracteres de la clave de acceso mostrada')\n",
        "while continuar:\n",
        "  print('Escriba el codigo mostrado en pantalla')\n",
        "  codigo=''\n",
        "  for i in range(tamaño):\n",
        "    codigo+=chr(rn.randint(65,122))\n",
        "    print(codigo)\n",
        "  verificar=input('ingrese la clave de acceso de seguridad '+codigo+'  :')\n",
        "  intentos+=1\n",
        "  if verificar==codigo:\n",
        "    print('Muy Bien, podrá continuar con el acceso a su cuenta')\n",
        "\n",
        "    #--------------su codigo aqui--------------\n",
        "    \n",
        "    contrasena='contrasena_1245'\n",
        "    continuar=True\n",
        "    intentos_permitidos_contrasena=5\n",
        "    intentos_contrasena=0\n",
        "    print('Para poder continuar debe escribir la contraseña correcta')\n",
        "    while continuar:\n",
        "      verificar=input('Ingrese su contraseña de seguridad:')\n",
        "      intentos_contrasena+=1\n",
        "      if verificar==contrasena:\n",
        "        print('Felicidades!! ya puede acceder a su cuenta')\n",
        "        continuar=False\n",
        "      else:\n",
        "        print('contraseña incorrecta, intente nuevamente')\n",
        "      if intentos_contrasena==intentos_permitidos_contrasena:\n",
        "        print('Ha utilizado los intentos permitidos, intente mas tarde ')\n",
        "        continuar=False\n",
        "      \n",
        "    #------------------------------------------\n",
        "    \n",
        "    continuar=False\n",
        "  else:\n",
        "    print('ups! Ese no es el código que mostré')\n",
        "  if intentos==intentos_permitidos:\n",
        "    print('Ha utilizado los intentos permitidos, intente mas tarde ')\n",
        "    continuar=False\n",
        "print('Ejecución terminada')"
      ],
      "metadata": {
        "id": "H3kEgxUvB99K",
        "colab": {
          "base_uri": "https://localhost:8080/"
        },
        "outputId": "6c057f0d-418f-4344-e2e3-b03f7f66bcb4"
      },
      "execution_count": null,
      "outputs": [
        {
          "output_type": "stream",
          "name": "stdout",
          "text": [
            "Este programa emulador de acceso, Solo le permitirá continuar si escribe correctamente\n",
            " los 5 caracteres de la clave de acceso mostrada\n",
            "Escriba el codigo mostrado en pantalla\n",
            "q\n",
            "qy\n",
            "qye\n",
            "qyeH\n",
            "qyeHm\n",
            "ingrese la clave de acceso de seguridad qyeHm  :qyeHm\n",
            "Muy Bien, podrá continuar con el acceso a su cuenta\n",
            "Para poder continuar debe escribir la contraseña correcta\n",
            "Ingrese su contraseña de seguridad:asdasf\n",
            "contraseña incorrecta, intente nuevamente\n",
            "Ingrese su contraseña de seguridad:asf\n",
            "contraseña incorrecta, intente nuevamente\n",
            "Ingrese su contraseña de seguridad:asf\n",
            "contraseña incorrecta, intente nuevamente\n",
            "Ingrese su contraseña de seguridad:asf\n",
            "contraseña incorrecta, intente nuevamente\n",
            "Ingrese su contraseña de seguridad:sf\n",
            "contraseña incorrecta, intente nuevamente\n",
            "Ha utilizado los intentos permitidos, intente mas tarde \n",
            "Ejecución terminada\n"
          ]
        }
      ]
    },
    {
      "cell_type": "markdown",
      "source": [
        "**Oscar Andrés Guzmán Vásquez**\n",
        "\n",
        "*Taller 3*"
      ],
      "metadata": {
        "id": "BBjwZQPnYECm"
      }
    },
    {
      "cell_type": "code",
      "source": [
        "#------ Libreria necesaria para generar numeros aleatorios\n",
        "import random as rn\n",
        "#-------codigo-----\n",
        "tamaño=5#cantidad de caracteres\n",
        "continuar=True\n",
        "intentos_permitidos=5\n",
        "intentos=0\n",
        "print('Este programa emulador de acceso, Solo le permitirá continuar si escribe correctamente\\n los '+str(tamaño)+' caracteres de la clave de acceso mostrada')\n",
        "while continuar:\n",
        "  print('Escriba el codigo mostrado en pantalla')\n",
        "  codigo=''\n",
        "  for i in range(tamaño):\n",
        "    codigo+=chr(rn.randint(65,122))\n",
        "    print(codigo)\n",
        "  verificar=input('ingrese la clave de acceso de seguridad '+codigo+'  :')\n",
        "  intentos+=1\n",
        "  if verificar==codigo:\n",
        "    print('Muy Bien, podrá continuar con el acceso a su cuenta')\n",
        "\n",
        "    #--------------su codigo aqui--------------\n",
        "\n",
        "    contraseña=\"SoyHumano2022\"\n",
        "    print(\"El siguiente paso a seguir es ingresar su contraseña (identificación humana)\")\n",
        "    entrada=input()\n",
        "    i=4\n",
        "    if contraseña==entrada :\n",
        "     print(\"Contraseña correcta, puede ingresar.\")\n",
        "    else :\n",
        "     while contraseña!=entrada and i>0:\n",
        "       entrada=input(print(\"Contraseña incorrecta, por favor ingrese de nuevo la contraseña.\"))\n",
        "       i=i-1\n",
        "       if i==0 and contraseña!=entrada:\n",
        "        print(\"Fin de los intentos, por favor vuelva a intertarlo en 5 minutos.\")\n",
        "       if contraseña==entrada :\n",
        "        print(\"Contraseña correcta, puede ingresar.\")\n",
        "    \n",
        "    #------------------------------------------\n",
        "    \n",
        "    continuar=False\n",
        "  if intentos==intentos_permitidos:\n",
        "    print('Ha utilizado los intentos permitidos, intente mas tarde ')\n",
        "    continuar=False\n",
        "print('Ejecución terminada')"
      ],
      "metadata": {
        "id": "jGqY8HxnYQAl",
        "colab": {
          "base_uri": "https://localhost:8080/"
        },
        "outputId": "d9dc685b-2cb7-4400-f408-3fd1847ca4a5"
      },
      "execution_count": null,
      "outputs": [
        {
          "output_type": "stream",
          "name": "stdout",
          "text": [
            "Este programa emulador de acceso, Solo le permitirá continuar si escribe correctamente\n",
            " los 5 caracteres de la clave de acceso mostrada\n",
            "Escriba el codigo mostrado en pantalla\n",
            "]\n",
            "]w\n",
            "]wA\n",
            "]wAf\n",
            "]wAfM\n",
            "ingrese la clave de acceso de seguridad ]wAfM  :]wAfM\n",
            "Muy Bien, podrá continuar con el acceso a su cuenta\n",
            "El siguiente paso a seguir es ingresar su contraseña (identificación humana)\n",
            "contrasena_1245\n",
            "Contraseña incorrecta, por favor ingrese de nuevo la contraseña.\n",
            "SoyHumano2022\n",
            "Contraseña correcta, puede ingresar.\n",
            "Ejecución terminada\n"
          ]
        }
      ]
    },
    {
      "cell_type": "markdown",
      "source": [
        "**Cristian Camilo Barrera Rodriguez** \\\n",
        "Taller 3"
      ],
      "metadata": {
        "id": "t3MR1ECfn-lX"
      }
    },
    {
      "cell_type": "code",
      "source": [
        ""
      ],
      "metadata": {
        "id": "KFy0vq4A5iue"
      },
      "execution_count": null,
      "outputs": []
    },
    {
      "cell_type": "code",
      "source": [
        "#------ Libreria necesaria para generar numeros aleatorios\n",
        "import random as rn\n",
        "#-------codigo-----\n",
        "tamaño=5#cantidad de caracteres\n",
        "continuar=True\n",
        "intentos_permitidos=5\n",
        "intentos=0\n",
        "print('Este programa emulador de acceso, Solo le permitirá continuar si escribe correctamente\\n los '+str(tamaño)+' caracteres de la clave de acceso mostrada')\n",
        "while continuar:\n",
        "  print('Escriba el codigo mostrado en pantalla')\n",
        "  codigo=''\n",
        "  for i in range(tamaño):\n",
        "    codigo+=chr(rn.randint(65,122))\n",
        "    print(codigo)\n",
        "  verificar=input('ingrese la clave de acceso de seguridad '+codigo+'  :')\n",
        "  intentos+=1\n",
        "  if verificar==codigo:\n",
        "    print('Muy Bien, podrá continuar con el acceso a su cuenta')\n",
        "\n",
        "    #--------------su codigo aqui--------------\n",
        "\n",
        "    contrasena='Hola Mundo 123'\n",
        "    intentos_permitidos=5\n",
        "    intentos=0\n",
        "    print('En este programa emulador de acceso, solo podras continuar si ingresas correctamente la clave')\n",
        "    print('Tienes 5 intentos para ingresar la clave, de lo contrario seras baneado de forma temporal')\n",
        "    while continuar:\n",
        "      contrasena_usuario=input('Para poder ingresar debe escribir la clave a continuación     ')\n",
        "      if contrasena_usuario==contrasena:\n",
        "        print('Muy bien, has ingresado correctamente a tu cuenta')\n",
        "        continuar=False\n",
        "      else:\n",
        "        print('Ups! Algo salio mal intenta nuevamente')\n",
        "        intentos+=1\n",
        "      if intentos==intentos_permitidos:\n",
        "        print('Has utilizado todos los intentos posibles para esta sesión, intenta nuevamente más tarde ')\n",
        "        continuar=False\n",
        "    #------------------------------------------\n",
        "    continuar=False\n",
        "  if intentos==intentos_permitidos:\n",
        "    print('Ha utilizado los intentos permitidos, intente mas tarde ')\n",
        "    continuar=False\n",
        "print('Ejecución terminada')"
      ],
      "metadata": {
        "colab": {
          "base_uri": "https://localhost:8080/"
        },
        "outputId": "a90492e3-724f-4510-99b5-6b98fac1de09",
        "id": "spt_cvl-5jBL"
      },
      "execution_count": null,
      "outputs": [
        {
          "output_type": "stream",
          "name": "stdout",
          "text": [
            "Este programa emulador de acceso, Solo le permitirá continuar si escribe correctamente\n",
            " los 5 caracteres de la clave de acceso mostrada\n",
            "Escriba el codigo mostrado en pantalla\n",
            "w\n",
            "wL\n",
            "wLy\n",
            "wLyL\n",
            "wLyLU\n",
            "ingrese la clave de acceso de seguridad wLyLU  :wLyLU\n",
            "Muy Bien, podrá continuar con el acceso a su cuenta\n",
            "En este programa emulador de acceso, solo podras continuar si ingresas correctamente la clave\n",
            "Tienes 5 intentos para ingresar la clave, de lo contrario seras baneado de forma temporal\n",
            "Para poder ingresar debe escribir la clave a continuación     Hola Mundo 123\n",
            "Muy bien, has ingresado correctamente a tu cuenta\n",
            "Ejecución terminada\n"
          ]
        }
      ]
    },
    {
      "cell_type": "markdown",
      "source": [
        "Andres Ramirez\n",
        "# Taller 3"
      ],
      "metadata": {
        "id": "F8TA9t-Midn8"
      }
    },
    {
      "cell_type": "code",
      "source": [
        "#------ Libreria necesaria para generar numeros aleatorios\n",
        "import random as rn\n",
        "#-------codigo-----\n",
        "tamaño=5#cantidad de caracteres\n",
        "continuar=True\n",
        "intentos_permitidos=5\n",
        "intentos=0\n",
        "print('Este programa emulador de acceso, Solo le permitirá continuar si escribe correctamente\\n los '+str(tamaño)+' caracteres de la clave de acceso mostrada')\n",
        "while continuar:\n",
        "  print('Escriba el codigo mostrado en pantalla')\n",
        "  codigo=''\n",
        "  for i in range(tamaño):\n",
        "    codigo+=chr(rn.randint(65,122))\n",
        "    print(codigo)\n",
        "  verificar=input('ingrese la clave de acceso de seguridad '+codigo+'  :')\n",
        "  intentos+=1\n",
        "  if verificar==codigo:\n",
        "    print('Muy Bien, podrá continuar con el acceso a su cuenta')\n",
        "    #--------------su codigo aqui--------------\n",
        "    contrasena='nerfminer'\n",
        "    Intentos_disponibles=5\n",
        "    Intentos=0\n",
        "    continuar=True\n",
        "    while continuar:\n",
        "      print(\"Ingrese su contraseña para continuar, dispone de \"+str(Intentos_disponibles)+ ' intentos restantes')\n",
        "      entrada=input()\n",
        "      if entrada==contrasena:\n",
        "        print(\"Felicidades, su acceso a sido concedido\")\n",
        "        break\n",
        "      else:\n",
        "       Intentos_disponibles-=1\n",
        "       print(\"su contraseña es incorrecta\")\n",
        "      if Intentos_disponibles==Intentos:\n",
        "        print(\"Sus intentos se han agotado, intente nuevamente mas tarde\")\n",
        "        continuar=False\n",
        "\n",
        "\n",
        "\n",
        "      \n",
        "    \n",
        "\n",
        "    #------------------------------------------\n",
        "    continuar=False\n",
        "  if intentos==intentos_permitidos:\n",
        "    print('Ha utilizado los intentos permitidos, intente mas tarde ')\n",
        "    continuar=False\n",
        "print('Ejecución terminada')"
      ],
      "metadata": {
        "id": "mrHo7YYnip9S"
      },
      "execution_count": null,
      "outputs": []
    }
  ]
}